{
 "cells": [
  {
   "cell_type": "markdown",
   "metadata": {},
   "source": [
    "# Prepare the dataset"
   ]
  },
  {
   "cell_type": "code",
   "execution_count": 10,
   "metadata": {},
   "outputs": [
    {
     "data": {
      "text/html": [
       "<div>\n",
       "<style scoped>\n",
       "    .dataframe tbody tr th:only-of-type {\n",
       "        vertical-align: middle;\n",
       "    }\n",
       "\n",
       "    .dataframe tbody tr th {\n",
       "        vertical-align: top;\n",
       "    }\n",
       "\n",
       "    .dataframe thead th {\n",
       "        text-align: right;\n",
       "    }\n",
       "</style>\n",
       "<table border=\"1\" class=\"dataframe\">\n",
       "  <thead>\n",
       "    <tr style=\"text-align: right;\">\n",
       "      <th></th>\n",
       "      <th>purchase_TF</th>\n",
       "      <th>Variant</th>\n",
       "      <th>date</th>\n",
       "      <th>id</th>\n",
       "    </tr>\n",
       "  </thead>\n",
       "  <tbody>\n",
       "    <tr>\n",
       "      <th>0</th>\n",
       "      <td>False</td>\n",
       "      <td>A</td>\n",
       "      <td>08/11/2019</td>\n",
       "      <td>0x25b44a</td>\n",
       "    </tr>\n",
       "    <tr>\n",
       "      <th>1</th>\n",
       "      <td>False</td>\n",
       "      <td>B</td>\n",
       "      <td>27/08/2020</td>\n",
       "      <td>0x46271e</td>\n",
       "    </tr>\n",
       "    <tr>\n",
       "      <th>2</th>\n",
       "      <td>False</td>\n",
       "      <td>A</td>\n",
       "      <td>11/06/2020</td>\n",
       "      <td>0x80b8f1</td>\n",
       "    </tr>\n",
       "    <tr>\n",
       "      <th>3</th>\n",
       "      <td>False</td>\n",
       "      <td>B</td>\n",
       "      <td>22/08/2020</td>\n",
       "      <td>0x8d736d</td>\n",
       "    </tr>\n",
       "    <tr>\n",
       "      <th>4</th>\n",
       "      <td>False</td>\n",
       "      <td>A</td>\n",
       "      <td>05/08/2020</td>\n",
       "      <td>0x96c9c8</td>\n",
       "    </tr>\n",
       "    <tr>\n",
       "      <th>...</th>\n",
       "      <td>...</td>\n",
       "      <td>...</td>\n",
       "      <td>...</td>\n",
       "      <td>...</td>\n",
       "    </tr>\n",
       "    <tr>\n",
       "      <th>129995</th>\n",
       "      <td>False</td>\n",
       "      <td>A</td>\n",
       "      <td>23/07/2020</td>\n",
       "      <td>0x4089c2</td>\n",
       "    </tr>\n",
       "    <tr>\n",
       "      <th>129996</th>\n",
       "      <td>False</td>\n",
       "      <td>A</td>\n",
       "      <td>24/06/2020</td>\n",
       "      <td>0x6a5e3a</td>\n",
       "    </tr>\n",
       "    <tr>\n",
       "      <th>129997</th>\n",
       "      <td>False</td>\n",
       "      <td>A</td>\n",
       "      <td>12/10/2019</td>\n",
       "      <td>0x95e302</td>\n",
       "    </tr>\n",
       "    <tr>\n",
       "      <th>129998</th>\n",
       "      <td>False</td>\n",
       "      <td>A</td>\n",
       "      <td>18/03/2020</td>\n",
       "      <td>0x7c4afa</td>\n",
       "    </tr>\n",
       "    <tr>\n",
       "      <th>129999</th>\n",
       "      <td>False</td>\n",
       "      <td>A</td>\n",
       "      <td>09/12/2019</td>\n",
       "      <td>0x380071</td>\n",
       "    </tr>\n",
       "  </tbody>\n",
       "</table>\n",
       "<p>130000 rows × 4 columns</p>\n",
       "</div>"
      ],
      "text/plain": [
       "        purchase_TF Variant        date        id\n",
       "0             False       A  08/11/2019  0x25b44a\n",
       "1             False       B  27/08/2020  0x46271e\n",
       "2             False       A  11/06/2020  0x80b8f1\n",
       "3             False       B  22/08/2020  0x8d736d\n",
       "4             False       A  05/08/2020  0x96c9c8\n",
       "...             ...     ...         ...       ...\n",
       "129995        False       A  23/07/2020  0x4089c2\n",
       "129996        False       A  24/06/2020  0x6a5e3a\n",
       "129997        False       A  12/10/2019  0x95e302\n",
       "129998        False       A  18/03/2020  0x7c4afa\n",
       "129999        False       A  09/12/2019  0x380071\n",
       "\n",
       "[130000 rows x 4 columns]"
      ]
     },
     "execution_count": 10,
     "metadata": {},
     "output_type": "execute_result"
    }
   ],
   "source": [
    "import pandas as pd\n",
    "\n",
    "df=pd.read_csv('AB_test_data.csv')\n",
    "\n",
    "df"
   ]
  },
  {
   "cell_type": "code",
   "execution_count": 11,
   "metadata": {},
   "outputs": [
    {
     "data": {
      "text/html": [
       "<div>\n",
       "<style scoped>\n",
       "    .dataframe tbody tr th:only-of-type {\n",
       "        vertical-align: middle;\n",
       "    }\n",
       "\n",
       "    .dataframe tbody tr th {\n",
       "        vertical-align: top;\n",
       "    }\n",
       "\n",
       "    .dataframe thead th {\n",
       "        text-align: right;\n",
       "    }\n",
       "</style>\n",
       "<table border=\"1\" class=\"dataframe\">\n",
       "  <thead>\n",
       "    <tr style=\"text-align: right;\">\n",
       "      <th></th>\n",
       "      <th></th>\n",
       "      <th>purchase_TF</th>\n",
       "    </tr>\n",
       "    <tr>\n",
       "      <th>Variant</th>\n",
       "      <th>purchase_TF</th>\n",
       "      <th></th>\n",
       "    </tr>\n",
       "  </thead>\n",
       "  <tbody>\n",
       "    <tr>\n",
       "      <th rowspan=\"2\" valign=\"top\">A</th>\n",
       "      <th>False</th>\n",
       "      <td>106298</td>\n",
       "    </tr>\n",
       "    <tr>\n",
       "      <th>True</th>\n",
       "      <td>18702</td>\n",
       "    </tr>\n",
       "    <tr>\n",
       "      <th rowspan=\"2\" valign=\"top\">B</th>\n",
       "      <th>False</th>\n",
       "      <td>4117</td>\n",
       "    </tr>\n",
       "    <tr>\n",
       "      <th>True</th>\n",
       "      <td>883</td>\n",
       "    </tr>\n",
       "  </tbody>\n",
       "</table>\n",
       "</div>"
      ],
      "text/plain": [
       "                     purchase_TF\n",
       "Variant purchase_TF             \n",
       "A       False             106298\n",
       "        True               18702\n",
       "B       False               4117\n",
       "        True                 883"
      ]
     },
     "execution_count": 11,
     "metadata": {},
     "output_type": "execute_result"
    }
   ],
   "source": [
    "a=df.groupby('Variant')['purchase_TF'].value_counts()\n",
    "a_df = pd.DataFrame(a)\n",
    "a_df"
   ]
  },
  {
   "cell_type": "code",
   "execution_count": 12,
   "metadata": {},
   "outputs": [
    {
     "data": {
      "text/plain": [
       "MultiIndex([('A', False),\n",
       "            ('A',  True),\n",
       "            ('B', False),\n",
       "            ('B',  True)],\n",
       "           names=['Variant', 'purchase_TF'])"
      ]
     },
     "execution_count": 12,
     "metadata": {},
     "output_type": "execute_result"
    }
   ],
   "source": [
    "a_df.index"
   ]
  },
  {
   "cell_type": "markdown",
   "metadata": {},
   "source": [
    "# 1. Conduct an AB Test"
   ]
  },
  {
   "cell_type": "code",
   "execution_count": 16,
   "metadata": {},
   "outputs": [
    {
     "name": "stdout",
     "output_type": "stream",
     "text": [
      "106298\n",
      "18702\n",
      "883\n",
      "4117\n"
     ]
    }
   ],
   "source": [
    "A_False=a_df.loc[('A',False), 'purchase_TF']\n",
    "print(A_False)\n",
    "A_True=a_df.loc[('A',True), 'purchase_TF']\n",
    "print(A_True)\n",
    "B_True=a_df.loc[('B',True), 'purchase_TF']\n",
    "print(B_True)\n",
    "B_False=a_df.loc[('B',False), 'purchase_TF']\n",
    "print(B_False)"
   ]
  },
  {
   "cell_type": "code",
   "execution_count": 17,
   "metadata": {},
   "outputs": [
    {
     "data": {
      "text/plain": [
       "0.149616"
      ]
     },
     "execution_count": 17,
     "metadata": {},
     "output_type": "execute_result"
    }
   ],
   "source": [
    "p=A_True/(A_False+A_True)\n",
    "p"
   ]
  },
  {
   "cell_type": "code",
   "execution_count": 18,
   "metadata": {},
   "outputs": [
    {
     "data": {
      "text/plain": [
       "0.1766"
      ]
     },
     "execution_count": 18,
     "metadata": {},
     "output_type": "execute_result"
    }
   ],
   "source": [
    "p_hat=B_True/(B_True+B_False)\n",
    "p_hat"
   ]
  },
  {
   "cell_type": "code",
   "execution_count": 19,
   "metadata": {},
   "outputs": [
    {
     "data": {
      "text/plain": [
       "5.003691773651441"
      ]
     },
     "execution_count": 19,
     "metadata": {},
     "output_type": "execute_result"
    }
   ],
   "source": [
    "import math\n",
    "z=(p_hat-p)/math.sqrt(p_hat*(1-p_hat)/5000)\n",
    "z"
   ]
  },
  {
   "cell_type": "code",
   "execution_count": 23,
   "metadata": {},
   "outputs": [
    {
     "name": "stdout",
     "output_type": "stream",
     "text": [
      "z score is 5.003692. Reject the null hypotheis and conclude that Alternative B improved conversion rates over alternative A.\n"
     ]
    }
   ],
   "source": [
    "if math.fabs(z) >=1.64:\n",
    "        print('z score is %f. Reject the null hypotheis and conclude that Alternative B improved conversion rates over alternative A.' %(z))\n",
    "else:\n",
    "        print('z score is %f. Fail to reject the null hypothesis and conclude that Alternative B did not improve conversion rates over alternative A.'%(z))\n",
    "        "
   ]
  },
  {
   "attachments": {
    "image.png": {
     "image/png": "[encoded data removed]"
    }
   },
   "cell_type": "markdown",
   "metadata": {},
   "source": [
    "# 2. Calculate the optimal sample size\n",
    "\n",
    "Optimal sample size balances committing Type I and Type 2 error.\n",
    "For proportions, assuming large enough data to use normal approximation to binomial distribution, variance = p(1-p) such that: ![image.png](attachment:image.png)\n",
    "\n",
    "where p_bar is the average of the sample\n",
    "proportions.\n",
    "\n",
    "According to the calculation above, p0=0.149616, p1=0.1766, by searching the t-distribution table, t(0.025)=1.96, t(0.2)=1.28"
   ]
  },
  {
   "cell_type": "code",
   "execution_count": 66,
   "metadata": {},
   "outputs": [],
   "source": [
    "p0 = 0.1507\n",
    "p1 = 0.149616\n",
    "p2 = 0.1766\n",
    "p_average=0.1631\n",
    "delta = p2-p1\n"
   ]
  },
  {
   "cell_type": "code",
   "execution_count": 62,
   "metadata": {},
   "outputs": [
    {
     "data": {
      "text/plain": [
       "1.959963984540054"
      ]
     },
     "execution_count": 62,
     "metadata": {},
     "output_type": "execute_result"
    }
   ],
   "source": [
    "import scipy.stats as st\n",
    "t_0025=st.norm.ppf(0.975)\n",
    "t_0025"
   ]
  },
  {
   "cell_type": "code",
   "execution_count": 63,
   "metadata": {},
   "outputs": [
    {
     "data": {
      "text/plain": [
       "0.8416212335729143"
      ]
     },
     "execution_count": 63,
     "metadata": {},
     "output_type": "execute_result"
    }
   ],
   "source": [
    "t_02=st.norm.ppf(0.8)\n",
    "t_02"
   ]
  },
  {
   "cell_type": "code",
   "execution_count": 72,
   "metadata": {},
   "outputs": [
    {
     "data": {
      "text/plain": [
       "2941.6001203133483"
      ]
     },
     "execution_count": 72,
     "metadata": {},
     "output_type": "execute_result"
    }
   ],
   "source": [
    "a = t_0025 * math.sqrt(2*p_average*(1-p_average))\n",
    "b = t_02 * math.sqrt(p1*(1-p1)+p2*(1-p2))\n",
    "delta = p2-p1\n",
    "sample_size = ((a+b) * (a+b)) / ((delta)*(delta))   \n",
    "sample_size\n"
   ]
  },
  {
   "cell_type": "markdown",
   "metadata": {},
   "source": [
    "Therefore, the optimal sample size is 2942.\n"
   ]
  },
  {
   "cell_type": "markdown",
   "metadata": {},
   "source": [
    "# Conduct the test 10 times"
   ]
  },
  {
   "cell_type": "code",
   "execution_count": 73,
   "metadata": {},
   "outputs": [
    {
     "data": {
      "text/html": [
       "<div>\n",
       "<style scoped>\n",
       "    .dataframe tbody tr th:only-of-type {\n",
       "        vertical-align: middle;\n",
       "    }\n",
       "\n",
       "    .dataframe tbody tr th {\n",
       "        vertical-align: top;\n",
       "    }\n",
       "\n",
       "    .dataframe thead th {\n",
       "        text-align: right;\n",
       "    }\n",
       "</style>\n",
       "<table border=\"1\" class=\"dataframe\">\n",
       "  <thead>\n",
       "    <tr style=\"text-align: right;\">\n",
       "      <th></th>\n",
       "      <th>purchase_TF</th>\n",
       "      <th>Variant</th>\n",
       "      <th>date</th>\n",
       "      <th>id</th>\n",
       "    </tr>\n",
       "  </thead>\n",
       "  <tbody>\n",
       "    <tr>\n",
       "      <th>37256</th>\n",
       "      <td>False</td>\n",
       "      <td>A</td>\n",
       "      <td>2020/6/30</td>\n",
       "      <td>0x55447f</td>\n",
       "    </tr>\n",
       "    <tr>\n",
       "      <th>28639</th>\n",
       "      <td>False</td>\n",
       "      <td>A</td>\n",
       "      <td>2020/8/1</td>\n",
       "      <td>0x5a7afd</td>\n",
       "    </tr>\n",
       "    <tr>\n",
       "      <th>83724</th>\n",
       "      <td>False</td>\n",
       "      <td>A</td>\n",
       "      <td>2019/12/28</td>\n",
       "      <td>0x487964</td>\n",
       "    </tr>\n",
       "    <tr>\n",
       "      <th>61488</th>\n",
       "      <td>False</td>\n",
       "      <td>A</td>\n",
       "      <td>2020/7/12</td>\n",
       "      <td>0x56eb9f</td>\n",
       "    </tr>\n",
       "    <tr>\n",
       "      <th>121819</th>\n",
       "      <td>False</td>\n",
       "      <td>A</td>\n",
       "      <td>2020/3/25</td>\n",
       "      <td>0x3ed4f5</td>\n",
       "    </tr>\n",
       "  </tbody>\n",
       "</table>\n",
       "</div>"
      ],
      "text/plain": [
       "        purchase_TF Variant        date        id\n",
       "37256         False       A   2020/6/30  0x55447f\n",
       "28639         False       A    2020/8/1  0x5a7afd\n",
       "83724         False       A  2019/12/28  0x487964\n",
       "61488         False       A   2020/7/12  0x56eb9f\n",
       "121819        False       A   2020/3/25  0x3ed4f5"
      ]
     },
     "execution_count": 73,
     "metadata": {},
     "output_type": "execute_result"
    }
   ],
   "source": [
    "import pandas as pd\n",
    "sample1 = df.sample(n=2942)\n",
    "sample2 = df.sample(n=2942)\n",
    "sample3 = df.sample(n=2942)\n",
    "sample4 = df.sample(n=2942)\n",
    "sample5 = df.sample(n=2942)\n",
    "sample6 = df.sample(n=2942)\n",
    "sample7 = df.sample(n=2942)\n",
    "sample8 = df.sample(n=2942)\n",
    "sample9 = df.sample(n=2942)\n",
    "sample10 = df.sample(n=2942)\n",
    "\n",
    "sample1.head()\n",
    "sample2.head()\n",
    "sample3.head()\n",
    "sample4.head()\n",
    "sample5.head()\n",
    "sample6.head()\n",
    "sample7.head()\n",
    "sample8.head()\n",
    "sample9.head()\n",
    "sample10.head()"
   ]
  },
  {
   "cell_type": "code",
   "execution_count": 74,
   "metadata": {},
   "outputs": [],
   "source": [
    "list = [sample1,sample2,sample3,sample4,sample5,sample6,sample7,sample8,sample9,sample10]"
   ]
  },
  {
   "cell_type": "code",
   "execution_count": 75,
   "metadata": {},
   "outputs": [
    {
     "name": "stdout",
     "output_type": "stream",
     "text": [
      "        purchase_TF Variant       date        id\n",
      "64639         False       A   2020/4/3  0x472d19\n",
      "120680        False       A   2020/6/5  0x6d7eb8\n",
      "24461         False       A  2020/6/13  0x917044\n",
      "30580         False       A   2020/5/2  0x8cf647\n",
      "116462        False       A   2020/8/8  0x209336\n",
      "...             ...     ...        ...       ...\n",
      "94660          True       A  2019/10/3  0x21772f\n",
      "22967         False       A   2020/5/7  0x7ba45c\n",
      "26502         False       A  2019/8/28  0x57c25f\n",
      "52012          True       A  2019/8/15  0x916048\n",
      "89631          True       A  2019/8/13  0x278285\n",
      "\n",
      "[2942 rows x 4 columns]\n",
      "z score is 0.158743. Fail to reject the null hypothesis and conclude that Alternative B did not improve conversion rates over alternative A.\n",
      "        purchase_TF Variant       date        id\n",
      "64166         False       A  2019/9/29  0x1a0517\n",
      "51789          True       A  2019/8/15  0x17ac80\n",
      "100373        False       A  2020/3/25  0x4a7ac1\n",
      "28656          True       A   2020/4/7  0x4f3617\n",
      "24082         False       A   2019/9/2  0x213437\n",
      "...             ...     ...        ...       ...\n",
      "126904         True       A  2019/8/24  0x723919\n",
      "26017         False       A  2020/2/18  0x2f577a\n",
      "21195         False       A  2020/8/16  0x639259\n",
      "41085         False       A  2020/4/18  0x908978\n",
      "124472        False       A  2020/1/14  0x3b0b6b\n",
      "\n",
      "[2942 rows x 4 columns]\n",
      "z score is 2.337862.Reject the null hypotheis and conclude that Alternative B improved conversion rates over alternative A.\n",
      "        purchase_TF Variant        date        id\n",
      "57562         False       A   2020/5/22  0x5b2476\n",
      "7050          False       A   2019/10/8  0x502f8f\n",
      "6978          False       A   2020/1/12  0x736ebe\n",
      "19062         False       A   2019/8/14  0x7cd02e\n",
      "119829        False       A   2020/6/22  0x29ef52\n",
      "...             ...     ...         ...       ...\n",
      "87676         False       A  2019/12/29  0x969096\n",
      "118827        False       A    2020/8/2  0x701d1f\n",
      "88409         False       A    2020/2/6  0x955df5\n",
      "47526          True       A  2019/11/11  0x8b7c32\n",
      "105784        False       A   2020/5/13  0x401064\n",
      "\n",
      "[2942 rows x 4 columns]\n",
      "z score is -0.657931. Fail to reject the null hypothesis and conclude that Alternative B did not improve conversion rates over alternative A.\n",
      "        purchase_TF Variant        date        id\n",
      "36978          True       A  2019/11/25  0x732b11\n",
      "37300         False       A   2020/2/11  0x55aab1\n",
      "90471         False       A   2020/2/14  0x26f9d9\n",
      "92714         False       A   2020/5/16  0x8659b0\n",
      "12646         False       A   2019/9/14  0x5de720\n",
      "...             ...     ...         ...       ...\n",
      "120927         True       A   2019/9/16  0x7c3298\n",
      "76785         False       A   2020/1/11  0x8d809c\n",
      "92574         False       A   2020/8/24  0x59d691\n",
      "104814        False       A   2019/10/5  0x2afd7c\n",
      "2936          False       A  2019/12/17  0x7913ce\n",
      "\n",
      "[2942 rows x 4 columns]\n",
      "z score is 3.154903.Reject the null hypotheis and conclude that Alternative B improved conversion rates over alternative A.\n",
      "        purchase_TF Variant        date        id\n",
      "43426         False       A    2020/5/5  0x8c4a68\n",
      "45911         False       A  2019/10/10  0x461ce3\n",
      "15753         False       A   2019/10/6  0x6e21e6\n",
      "46311         False       A   2020/1/25  0x79fe6c\n",
      "80345         False       B   2020/8/19  0x26e060\n",
      "...             ...     ...         ...       ...\n",
      "27156         False       A   2019/12/8  0x63d83e\n",
      "70535         False       A   2019/8/19  0x50fada\n",
      "46057          True       A   2020/8/20  0x641fd4\n",
      "106138        False       A  2019/12/13  0x365f10\n",
      "16134         False       A   2020/2/15  0x3a4ec2\n",
      "\n",
      "[2942 rows x 4 columns]\n",
      "z score is 1.924557.Reject the null hypotheis and conclude that Alternative B improved conversion rates over alternative A.\n",
      "        purchase_TF Variant        date        id\n",
      "61170         False       A  2019/10/21  0x47903c\n",
      "19054         False       A    2020/8/2  0x53393e\n",
      "96620         False       A   2020/7/11  0x26519c\n",
      "118322        False       A   2019/8/10  0x949109\n",
      "61348         False       A   2019/11/3  0x523db5\n",
      "...             ...     ...         ...       ...\n",
      "38689         False       A    2019/8/2  0x4ab3eb\n",
      "16034         False       A   2019/9/20  0x357a68\n",
      "97236         False       A   2019/9/15  0x27315c\n",
      "5667          False       A    2020/6/4  0x142588\n",
      "94981         False       A   2020/8/18  0x2aab46\n",
      "\n",
      "[2942 rows x 4 columns]\n",
      "z score is 1.034285. Fail to reject the null hypothesis and conclude that Alternative B did not improve conversion rates over alternative A.\n",
      "        purchase_TF Variant       date        id\n",
      "68729         False       A   2019/8/5  0x1b9e33\n",
      "118482        False       A   2020/7/7  0x52c903\n",
      "108441        False       A   2019/8/4  0x3094c6\n",
      "81130         False       A   2020/8/3  0x1ed630\n",
      "889           False       A  2020/4/23  0x350cca\n",
      "...             ...     ...        ...       ...\n",
      "118373        False       A  2020/7/14  0x788f24\n",
      "32730         False       A  2020/5/16  0x4af15f\n",
      "7725          False       A  2020/8/29  0x1d5f6f\n",
      "83027         False       A  2019/11/6  0x5ff5a0\n",
      "79534          True       A  2019/8/17  0x205478\n",
      "\n",
      "[2942 rows x 4 columns]\n",
      "z score is 6.394132.Reject the null hypotheis and conclude that Alternative B improved conversion rates over alternative A.\n",
      "        purchase_TF Variant        date        id\n",
      "95188         False       A  2019/10/15  0x75e986\n",
      "45641         False       A   2020/2/27  0x958d38\n",
      "127334        False       A    2020/7/6  0x45513a\n",
      "124474        False       A   2020/4/13  0x6b80f1\n",
      "32115         False       A    2020/7/8  0x5edd5d\n",
      "...             ...     ...         ...       ...\n",
      "28494         False       A   2020/1/14  0x3e48cc\n",
      "119416        False       A    2020/6/6  0x37cb7d\n",
      "2072          False       A   2019/12/1  0x975dcd\n",
      "67563         False       A   2020/6/28  0x8ca326\n",
      "65890         False       A    2020/2/4  0x4f9e9e\n",
      "\n",
      "[2942 rows x 4 columns]\n",
      "z score is 7.635099.Reject the null hypotheis and conclude that Alternative B improved conversion rates over alternative A.\n",
      "        purchase_TF Variant        date        id\n",
      "27623          True       A   2020/1/22  0x4866a4\n",
      "126476        False       A  2019/11/16  0x3e7403\n",
      "44345         False       A  2019/12/21  0x6f36d5\n",
      "45676         False       A  2019/11/28  0x2cce22\n",
      "72522          True       A   2020/5/14  0x53031c\n",
      "...             ...     ...         ...       ...\n",
      "34826         False       A   2020/4/26  0x368bb8\n",
      "96452         False       A    2019/8/5  0x6b9b10\n",
      "114693        False       A   2019/8/22  0x61506d\n",
      "54081         False       A   2020/6/25  0x353499\n",
      "129334        False       A    2020/1/6  0x3f053e\n",
      "\n",
      "[2942 rows x 4 columns]\n",
      "z score is -3.008029.Reject the null hypotheis and conclude that Alternative B improved conversion rates over alternative A.\n",
      "        purchase_TF Variant        date        id\n",
      "37256         False       A   2020/6/30  0x55447f\n",
      "28639         False       A    2020/8/1  0x5a7afd\n",
      "83724         False       A  2019/12/28  0x487964\n",
      "61488         False       A   2020/7/12  0x56eb9f\n",
      "121819        False       A   2020/3/25  0x3ed4f5\n",
      "...             ...     ...         ...       ...\n",
      "65732         False       A   2020/2/18  0x91334e\n",
      "68652         False       A   2019/8/10  0x38b635\n",
      "87084         False       A   2020/3/19   0xfe3e1\n",
      "47735         False       A   2020/2/21  0x1efcaf\n",
      "36184         False       A   2020/6/24  0x955855\n",
      "\n",
      "[2942 rows x 4 columns]\n",
      "z score is 2.840994.Reject the null hypotheis and conclude that Alternative B improved conversion rates over alternative A.\n"
     ]
    }
   ],
   "source": [
    "i = 0\n",
    "while i < 10:\n",
    "    df = list[i]\n",
    "    print(df)\n",
    "    a=df.groupby('Variant')['purchase_TF'].value_counts()\n",
    "    a_df = pd.DataFrame(a)\n",
    "    A_False=a_df.loc[('A',False), 'purchase_TF']\n",
    "    A_True=a_df.loc[('A',True), 'purchase_TF']\n",
    "    B_True=a_df.loc[('B',True), 'purchase_TF']\n",
    "    B_False=a_df.loc[('B',False), 'purchase_TF']\n",
    "    p=A_True/(A_False+A_True)\n",
    "    p_hat=B_True/(B_True+B_False)\n",
    "    z=(p_hat-p)/math.sqrt(p_hat*(1-p_hat)/5000)\n",
    "    if math.fabs(z) >=1.64:\n",
    "        print('z score is %f.Reject the null hypotheis and conclude that Alternative B improved conversion rates over alternative A.' %(z))\n",
    "    else:\n",
    "        print('z score is %f. Fail to reject the null hypothesis and conclude that Alternative B did not improve conversion rates over alternative A.'%(z))\n",
    "    i += 1\n"
   ]
  },
  {
   "cell_type": "markdown",
   "metadata": {},
   "source": [
    "# results: \n",
    "the optimal sample size is 2942 and in the 10 samples generated, only 3 samples conclude that Alternative B did not improve conversion rates over alternative A; 7 samples conclude that Alternative B improved conversion rates over alternative A."
   ]
  },
  {
   "cell_type": "markdown",
   "metadata": {},
   "source": [
    "# 3 Sequential Testing"
   ]
  },
  {
   "cell_type": "code",
   "execution_count": 24,
   "metadata": {},
   "outputs": [
    {
     "data": {
      "text/plain": [
       "2.995732273553991"
      ]
     },
     "execution_count": 24,
     "metadata": {},
     "output_type": "execute_result"
    }
   ],
   "source": [
    "alpha = 0.05\n",
    "ln_A=math.log(1/alpha)\n",
    "ln_A"
   ]
  },
  {
   "cell_type": "code",
   "execution_count": 25,
   "metadata": {},
   "outputs": [
    {
     "data": {
      "text/plain": [
       "-1.6094379124341003"
      ]
     },
     "execution_count": 25,
     "metadata": {},
     "output_type": "execute_result"
    }
   ],
   "source": [
    "beta = 0.2\n",
    "ln_B=math.log(beta)\n",
    "ln_B"
   ]
  },
  {
   "cell_type": "code",
   "execution_count": 26,
   "metadata": {},
   "outputs": [],
   "source": [
    "PA=p\n",
    "PB=p_hat"
   ]
  },
  {
   "cell_type": "code",
   "execution_count": 30,
   "metadata": {},
   "outputs": [],
   "source": [
    "from random import sample\n",
    "ln_0_xi = math.log((1-PA)/(1-PB))\n",
    "ln_1_xi = math.log(PA/PB)\n",
    "def SPRT():\n",
    "    ln_lamba = 0\n",
    "    i=0\n",
    "    B_sample = sample(list(df['purchase_TF'].values),2942)\n",
    "    for record in B_sample:\n",
    "        if ln_lamba<ln_A and ln_lamba>ln_B:\n",
    "            if record==0:\n",
    "                ln_lamba=ln_lamba+ln_0_xi\n",
    "            else:\n",
    "                ln_lamba=ln_lamba+ln_1_xi\n",
    "            i+=1\n",
    "        elif ln_lamba>=ln_A:\n",
    "            return(i,'Reject H0')\n",
    "            break\n",
    "        else:\n",
    "            return(i,'Fail to reject H0')\n",
    "            break"
   ]
  },
  {
   "cell_type": "code",
   "execution_count": 31,
   "metadata": {},
   "outputs": [
    {
     "data": {
      "text/plain": [
       "[(1156, 'Reject H0'),\n",
       " (1205, 'Reject H0'),\n",
       " (241, 'Reject H0'),\n",
       " (296, 'Reject H0'),\n",
       " (572, 'Reject H0'),\n",
       " (505, 'Reject H0'),\n",
       " (462, 'Reject H0'),\n",
       " (431, 'Reject H0'),\n",
       " (751, 'Reject H0'),\n",
       " (253, 'Reject H0')]"
      ]
     },
     "execution_count": 31,
     "metadata": {},
     "output_type": "execute_result"
    }
   ],
   "source": [
    "result_3 = [SPRT() for i in range(10)]\n",
    "result_3"
   ]
  },
  {
   "cell_type": "code",
   "execution_count": 32,
   "metadata": {},
   "outputs": [
    {
     "name": "stdout",
     "output_type": "stream",
     "text": [
      "The average number of iterations required to stop the test is: 587.2\n"
     ]
    }
   ],
   "source": [
    "total = 0\n",
    "for item in result_3:\n",
    "    total += item[0]\n",
    "print('The average number of iterations required to stop the test is:',total/10)"
   ]
  },
  {
   "cell_type": "markdown",
   "metadata": {},
   "source": [
    "Based on the optimal sample size in question 2, we conduct the sequential test for 10 times. In all of the SPRT tests, we stop the test prior to using full samples, about 587.2 iterations to stop the test on average. "
   ]
  },
  {
   "cell_type": "code",
   "execution_count": null,
   "metadata": {},
   "outputs": [],
   "source": []
  }
 ],
 "metadata": {
  "kernelspec": {
   "display_name": "Python 3",
   "language": "python",
   "name": "python3"
  },
  "language_info": {
   "codemirror_mode": {
    "name": "ipython",
    "version": 3
   },
   "file_extension": ".py",
   "mimetype": "text/x-python",
   "name": "python",
   "nbconvert_exporter": "python",
   "pygments_lexer": "ipython3",
   "version": "3.8.3"
  }
 },
 "nbformat": 4,
 "nbformat_minor": 4
}
